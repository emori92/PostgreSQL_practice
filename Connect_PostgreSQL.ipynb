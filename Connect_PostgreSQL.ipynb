{
 "cells": [
  {
   "cell_type": "code",
   "execution_count": 1,
   "metadata": {},
   "outputs": [],
   "source": [
    "import psycopg2 as db\n",
    "import pandas as pd"
   ]
  },
  {
   "cell_type": "code",
   "execution_count": 2,
   "metadata": {},
   "outputs": [],
   "source": [
    "db_para = {\n",
    "    'host': 'localhost',\n",
    "    'database': 'product',\n",
    "}\n",
    "\n",
    "con = db.connect(**db_para)"
   ]
  },
  {
   "cell_type": "code",
   "execution_count": 3,
   "metadata": {},
   "outputs": [
    {
     "output_type": "execute_result",
     "data": {
      "text/plain": "  product_id product_name product_category  selling_price  purchase_price  \\\n0       0001         Tシャツ               衣服           1000           500.0   \n1       0002       穴あけパンチ             事務用品            500           320.0   \n2       0003      カッターシャツ               衣服           4000          2800.0   \n3       0004           包丁           キッチン用品           3000          2800.0   \n4       0005          圧力鍋           キッチン用品           6800          5000.0   \n5       0006         フォーク           キッチン用品            500             NaN   \n6       0007        おろしがね           キッチン用品            880           790.0   \n7       0008        ボールペン             事務用品            100             NaN   \n\n  registration  \n0   2009-09-20  \n1   2009-09-11  \n2         None  \n3   2009-09-20  \n4   2009-01-15  \n5   2009-09-20  \n6   2008-04-28  \n7   2009-11-11  ",
      "text/html": "<div>\n<style scoped>\n    .dataframe tbody tr th:only-of-type {\n        vertical-align: middle;\n    }\n\n    .dataframe tbody tr th {\n        vertical-align: top;\n    }\n\n    .dataframe thead th {\n        text-align: right;\n    }\n</style>\n<table border=\"1\" class=\"dataframe\">\n  <thead>\n    <tr style=\"text-align: right;\">\n      <th></th>\n      <th>product_id</th>\n      <th>product_name</th>\n      <th>product_category</th>\n      <th>selling_price</th>\n      <th>purchase_price</th>\n      <th>registration</th>\n    </tr>\n  </thead>\n  <tbody>\n    <tr>\n      <th>0</th>\n      <td>0001</td>\n      <td>Tシャツ</td>\n      <td>衣服</td>\n      <td>1000</td>\n      <td>500.0</td>\n      <td>2009-09-20</td>\n    </tr>\n    <tr>\n      <th>1</th>\n      <td>0002</td>\n      <td>穴あけパンチ</td>\n      <td>事務用品</td>\n      <td>500</td>\n      <td>320.0</td>\n      <td>2009-09-11</td>\n    </tr>\n    <tr>\n      <th>2</th>\n      <td>0003</td>\n      <td>カッターシャツ</td>\n      <td>衣服</td>\n      <td>4000</td>\n      <td>2800.0</td>\n      <td>None</td>\n    </tr>\n    <tr>\n      <th>3</th>\n      <td>0004</td>\n      <td>包丁</td>\n      <td>キッチン用品</td>\n      <td>3000</td>\n      <td>2800.0</td>\n      <td>2009-09-20</td>\n    </tr>\n    <tr>\n      <th>4</th>\n      <td>0005</td>\n      <td>圧力鍋</td>\n      <td>キッチン用品</td>\n      <td>6800</td>\n      <td>5000.0</td>\n      <td>2009-01-15</td>\n    </tr>\n    <tr>\n      <th>5</th>\n      <td>0006</td>\n      <td>フォーク</td>\n      <td>キッチン用品</td>\n      <td>500</td>\n      <td>NaN</td>\n      <td>2009-09-20</td>\n    </tr>\n    <tr>\n      <th>6</th>\n      <td>0007</td>\n      <td>おろしがね</td>\n      <td>キッチン用品</td>\n      <td>880</td>\n      <td>790.0</td>\n      <td>2008-04-28</td>\n    </tr>\n    <tr>\n      <th>7</th>\n      <td>0008</td>\n      <td>ボールペン</td>\n      <td>事務用品</td>\n      <td>100</td>\n      <td>NaN</td>\n      <td>2009-11-11</td>\n    </tr>\n  </tbody>\n</table>\n</div>"
     },
     "metadata": {},
     "execution_count": 3
    }
   ],
   "source": [
    "query = '''\n",
    "SELECT\n",
    "    *\n",
    "FROM\n",
    "    product\n",
    ";\n",
    "'''\n",
    "\n",
    "df = pd.read_sql(query, con)\n",
    "df"
   ]
  }
 ],
 "metadata": {
  "kernelspec": {
   "display_name": "Python 3.8.2 64-bit ('hoby-py': venv)",
   "language": "python",
   "name": "python38264bithobypyvenv011ee0395285450b8f64c575f0d9b0f4"
  },
  "language_info": {
   "codemirror_mode": {
    "name": "ipython",
    "version": 3
   },
   "file_extension": ".py",
   "mimetype": "text/x-python",
   "name": "python",
   "nbconvert_exporter": "python",
   "pygments_lexer": "ipython3",
   "version": "3.8.2-final"
  }
 },
 "nbformat": 4,
 "nbformat_minor": 4
}